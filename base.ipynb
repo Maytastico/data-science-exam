{
 "cells": [
  {
   "cell_type": "code",
   "execution_count": 21,
   "id": "initial_id",
   "metadata": {
    "ExecuteTime": {
     "end_time": "2025-03-25T16:03:13.756225Z",
     "start_time": "2025-03-25T16:03:07.811034Z"
    },
    "collapsed": true
   },
   "outputs": [],
   "source": [
    "!pip install plotly\n",
    "!pip install scikit-learn\n",
    "!pip install numpy\n",
    "!pip install pandas\n",
    "!pip install seaborn"
   ]
  },
  {
   "cell_type": "code",
   "execution_count": 22,
   "id": "58ab7ae0f5a4e1cc",
   "metadata": {
    "ExecuteTime": {
     "end_time": "2025-03-25T16:03:17.094647Z",
     "start_time": "2025-03-25T16:03:17.043199Z"
    }
   },
   "outputs": [],
   "source": [
    "import sklearn as sk\n",
    "import numpy as np\n",
    "import plotly.express as px\n",
    "import pandas as pd\n",
    "import seaborn as sns"
   ]
  },
  {
   "cell_type": "markdown",
   "id": "fe8c833af8cadbe2",
   "metadata": {},
   "source": []
  },
  {
   "cell_type": "code",
   "execution_count": 23,
   "id": "43481c00ae8670ce",
   "metadata": {
    "ExecuteTime": {
     "end_time": "2025-03-25T15:48:42.280260Z",
     "start_time": "2025-03-25T15:48:39.117690Z"
    }
   },
   "outputs": [],
   "source": [
    "# Loading Datasets\n",
    "data = pd.read_csv('./Crime_Data_from_2020_to_Present.csv', usecols=['DR_NO','AREA NAME' ,'Date Rptd', 'DATE OCC', 'TIME OCC', 'LOCATION', 'Crm Cd Desc', 'Vict Age', 'Vict Sex', 'Weapon Desc', 'Premis Desc', 'LAT', 'LON'], header=0)\n",
    "data = data[data['DATE OCC'].str.contains('2024')]\n",
    "data.dropna(inplace=True)\n",
    "\n",
    "\n",
    "\n",
    "encoded = pd.DataFrame()\n",
    "\n",
    "data.head()"
   ]
  },
  {
   "cell_type": "code",
   "execution_count": 24,
   "id": "a96bd56f208042a5",
   "metadata": {
    "ExecuteTime": {
     "end_time": "2025-03-25T15:48:42.521264Z",
     "start_time": "2025-03-25T15:48:42.513327Z"
    }
   },
   "outputs": [],
   "source": [
    "gender_counts = data['Vict Sex'].value_counts()\n",
    "gender_counts"
   ]
  },
  {
   "cell_type": "code",
   "execution_count": 25,
   "id": "cb6d6f1be0e4deb7",
   "metadata": {
    "ExecuteTime": {
     "end_time": "2025-03-25T15:48:42.562586Z",
     "start_time": "2025-03-25T15:48:42.538601Z"
    }
   },
   "outputs": [],
   "source": [
    "data.describe()"
   ]
  },
  {
   "cell_type": "code",
   "execution_count": 26,
   "id": "ecc77ad887723b61",
   "metadata": {
    "ExecuteTime": {
     "end_time": "2025-03-25T15:48:42.748893Z",
     "start_time": "2025-03-25T15:48:42.672333Z"
    }
   },
   "outputs": [],
   "source": [
    "# Time Conversion\n",
    "\n",
    "# Combine DATE OCC and TIME OCC into a single datetime column\n",
    "data['DATE OCC'] = pd.to_datetime(data['DATE OCC'], format='%m/%d/%Y %I:%M:%S %p')\n",
    "#data['DATE OCC'] = pd.to_datetime(data['DATE OCC'] + ' ' + data['TIME OCC'], format='%Y-%m-%d %M:%S')\n",
    "# Convert the datetime column to Unix timestamps\n",
    "encoded['UNIX_TIMESTAMP'] = data['DATE OCC'].apply(lambda x: x.timestamp())\n",
    "encoded['TIME OCC'] = data['TIME OCC'].copy()\n",
    "data"
   ]
  },
  {
   "cell_type": "markdown",
   "id": "2a6761a9f3aa307f",
   "metadata": {},
   "source": [
    "# Label Encoding"
   ]
  },
  {
   "cell_type": "code",
   "execution_count": 27,
   "id": "341b743c0b4243c7",
   "metadata": {
    "ExecuteTime": {
     "end_time": "2025-03-25T15:59:48.246460Z",
     "start_time": "2025-03-25T15:59:47.724129Z"
    }
   },
   "outputs": [],
   "source": [
    "from sklearn.preprocessing import LabelEncoder\n",
    "\n",
    "# Initialize the LabelEncoder\n",
    "label_encoder = LabelEncoder()\n",
    "\n",
    "# Fit the LabelEncoder to the 'Crm Cd Desc' column\n",
    "label_encoder.fit(data['Crm Cd Desc'])\n",
    "# Transform the 'Crm Cd Desc' column\n",
    "encoded['Crm Cd Desc'] = label_encoder.transform(data['Crm Cd Desc'])\n",
    "\n",
    "# Fit the LabelEncoder to the 'AREA NAME' column\n",
    "label_encoder.fit(data['AREA NAME'])\n",
    "# Transform the 'AREA NAME' column\n",
    "encoded['AREA NAME'] = label_encoder.transform(data['AREA NAME'])\n",
    "\n",
    "# Fit the LabelEncoder to the 'AREA NAME' column\n",
    "label_encoder.fit(data['Vict Sex'])\n",
    "# Transform the 'AREA NAME' column\n",
    "encoded['Vict Sex'] = label_encoder.transform(data['Vict Sex'])\n",
    "\n",
    "# Fit the LabelEncoder to the 'AREA NAME' column\n",
    "label_encoder.fit(data['Premis Desc'])\n",
    "# Transform the 'AREA NAME' column\n",
    "encoded['Premis Desc'] = label_encoder.transform(data['Premis Desc'])\n",
    "\n",
    "# Fit the LabelEncoder to the 'AREA NAME' column\n",
    "label_encoder.fit(data['Weapon Desc'])\n",
    "# Transform the 'AREA NAME' column\n",
    "encoded['Weapon Desc'] = label_encoder.transform(data['Weapon Desc'])\n",
    "\n",
    "# Fit the LabelEncoder to the 'AREA NAME' column\n",
    "label_encoder.fit(data['LOCATION'])\n",
    "# Transform the 'AREA NAME' column\n",
    "encoded['LOCATION'] = label_encoder.transform(data['LOCATION'])\n",
    "\n",
    "\n",
    "encoded.to_csv('encoded.csv', index=True)\n",
    "data.to_csv('data.csv', index=True)\n",
    "encoded\n"
   ]
  },
  {
   "cell_type": "code",
   "execution_count": 28,
   "id": "fcb5909509518cbe",
   "metadata": {
    "ExecuteTime": {
     "end_time": "2025-03-25T16:06:14.814403Z",
     "start_time": "2025-03-25T16:06:14.438181Z"
    }
   },
   "outputs": [],
   "source": [
    "import matplotlib.pyplot as plt\n",
    "\n",
    "# Assuming 'encoded' is your DataFrame with encoded data\n",
    "# Compute the correlation matrix\n",
    "correlation_matrix = encoded.corr()\n",
    "\n",
    "# Display the correlation matrix\n",
    "print(correlation_matrix)\n",
    "\n",
    "# Optionally, visualize the correlation matrix using a heatmap\n",
    "plt.figure(figsize=(10, 8))\n",
    "sns.heatmap(correlation_matrix, annot=True, cmap='coolwarm', fmt='.2f')\n",
    "plt.title('Correlation Matrix')\n",
    "plt.show()"
   ]
  }
 ],
 "metadata": {
  "kernelspec": {
   "display_name": ".venv",
   "language": "python",
   "name": "python3"
  },
  "language_info": {
   "codemirror_mode": {
    "name": "ipython",
    "version": 3
   },
   "file_extension": ".py",
   "mimetype": "text/x-python",
   "name": "python",
   "nbconvert_exporter": "python",
   "pygments_lexer": "ipython3",
   "version": "3.12.9"
  }
 },
 "nbformat": 4,
 "nbformat_minor": 5
}
